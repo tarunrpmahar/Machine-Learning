{
 "cells": [
  {
   "cell_type": "code",
   "execution_count": 11,
   "metadata": {},
   "outputs": [
    {
     "name": "stdout",
     "output_type": "stream",
     "text": [
      "   sex  length  diameter  height  whole weight  shucked weight  \\\n",
      "0    1   0.455     0.365   0.095        0.5140          0.2245   \n",
      "1    1   0.350     0.265   0.090        0.2255          0.0995   \n",
      "2    0   0.530     0.420   0.135        0.6770          0.2565   \n",
      "3    1   0.440     0.365   0.125        0.5160          0.2155   \n",
      "4    2   0.330     0.255   0.080        0.2050          0.0895   \n",
      "\n",
      "   viscera weight  shell weight  rings  \n",
      "0          0.1010         0.150     15  \n",
      "1          0.0485         0.070      7  \n",
      "2          0.1415         0.210      9  \n",
      "3          0.1140         0.155     10  \n",
      "4          0.0395         0.055      7  \n"
     ]
    }
   ],
   "source": [
    "import pandas as pd\n",
    "from io import StringIO\n",
    "\n",
    "column_names = [\"sex\", \"length\", \"diameter\", \"height\", \"whole weight\", \n",
    "                \"shucked weight\", \"viscera weight\", \"shell weight\", \"rings\"]\n",
    "df = pd.read_csv(\"datasets/tarun.csv\", names=column_names)\n",
    "#df.info()\n",
    "df\n",
    "print(df.head())"
   ]
  },
  {
   "cell_type": "code",
   "execution_count": 12,
   "metadata": {},
   "outputs": [],
   "source": [
    "import numpy as np\n",
    "from matplotlib import pyplot as plot\n",
    "from sklearn import datasets,linear_model\n",
    "from sklearn.model_selection import train_test_split\n",
    "from sklearn.preprocessing import StandardScaler\n",
    "\n",
    "X = np.array(df.loc[:,['sex', 'length', 'diameter','height', 'whole weight', 'shucked weight', 'viscera weight','shell weight']])\n",
    "#X = np.array(df.iloc[:,0:7])\n",
    "\n",
    "y = np.array(df.loc[:,['rings']])\n",
    "\n",
    "X_train, X_test, y_train, y_test= train_test_split(df, y, test_size=0.2)"
   ]
  },
  {
   "cell_type": "code",
   "execution_count": 13,
   "metadata": {},
   "outputs": [
    {
     "name": "stdout",
     "output_type": "stream",
     "text": [
      "(4177, 8)\n",
      "(3341, 9)\n",
      "(836, 9)\n"
     ]
    }
   ],
   "source": [
    "print(np.shape(X))\n",
    "print(np.shape(X_train))\n",
    "print(np.shape(X_test))\n",
    "sc=StandardScaler()\n",
    "sc.fit(X_train)\n",
    "X_train_std = sc.transform(X_train)\n",
    "X_test_std =sc.transform(X_test)"
   ]
  },
  {
   "cell_type": "code",
   "execution_count": 14,
   "metadata": {},
   "outputs": [
    {
     "name": "stdout",
     "output_type": "stream",
     "text": [
      "223\n",
      "Accuracy =0.733254\n"
     ]
    }
   ],
   "source": [
    "from sklearn.tree import DecisionTreeClassifier\n",
    "tree = DecisionTreeClassifier(criterion='gini',max_depth=3 ,random_state=0)\n",
    "tree.fit(X_train_std,y_train)\n",
    "y_pred=tree.predict(X_test_std)\n",
    "count=0\n",
    "for i in range(836):\n",
    "    if(y_pred[i]!=y_test[i]):\n",
    "        count=count+1\n",
    "print(count)    \n",
    "#print(y_pred)\n",
    "#print(y_test)\n",
    "from sklearn.metrics import accuracy_score\n",
    "print('Accuracy =%2f'%accuracy_score(y_test,y_pred))"
   ]
  },
  {
   "cell_type": "code",
   "execution_count": 15,
   "metadata": {},
   "outputs": [],
   "source": [
    "#This will create word file of tree in your working directory\n",
    "from sklearn.tree import export_graphviz\n",
    "dot_data= export_graphviz(tree,out_file='tree.dot',feature_names=['sex', 'length', 'diameter','height', 'whole weight', \n",
    "                                                        'shucked weight', 'viscera weight','shell weight',\n",
    "                                                        'rings'])"
   ]
  },
  {
   "cell_type": "code",
   "execution_count": null,
   "metadata": {},
   "outputs": [],
   "source": []
  }
 ],
 "metadata": {
  "kernelspec": {
   "display_name": "Python 3",
   "language": "python",
   "name": "python3"
  },
  "language_info": {
   "codemirror_mode": {
    "name": "ipython",
    "version": 3
   },
   "file_extension": ".py",
   "mimetype": "text/x-python",
   "name": "python",
   "nbconvert_exporter": "python",
   "pygments_lexer": "ipython3",
   "version": "3.7.4"
  }
 },
 "nbformat": 4,
 "nbformat_minor": 2
}
